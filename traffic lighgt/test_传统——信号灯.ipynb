{
 "cells": [
  {
   "cell_type": "code",
   "execution_count": 2,
   "metadata": {},
   "outputs": [],
   "source": [
    "import matplotlib.pyplot as plt\n",
    "from PIL import Image,ImageEnhance\n",
    "import matplotlib.image as mpimg\n",
    "import numpy as np\n",
    "import cv2\n"
   ]
  },
  {
   "cell_type": "code",
   "execution_count": 2,
   "metadata": {},
   "outputs": [],
   "source": [
    "img=cv2.imread('light.jpg')\n",
    "HSV=cv2.cvtColor(img,cv2.COLOR_RGB2HSV)\n",
    "# 蓝色的范围，不同光照条件下不一样，可灵活调整\n",
    "# 绿色的范围\n",
    "lower_green = np.array([35, 20, 35])\n",
    "upper_green = np.array([70, 255, 255])\n",
    "# 红色的范围\n",
    "low_red = np.array([50, 80, 90])\n",
    "high_red = np.array([255, 255, 255])\n",
    "\n",
    "# 3.inRange()：介于lower/upper之间的为白色，其余黑色\n",
    " #将低于lower_blue和高于upper_blue的部分变成0，中间部分变为255（本文中即蓝色部分为255）\n",
    "# Step3. 形态学运算，膨胀\n",
    "\n",
    "mask= cv2.inRange(HSV, low_red, high_red)\n",
    "dilated= cv2.dilate(mask, cv2.getStructuringElement(cv2.MORPH_ELLIPSE, (3, 3)), iterations=2)\n",
    "\n",
    "# 4.只保留原图中的蓝色部分\n",
    " #mask ≠0时frame与frame按位相与，即显示蓝色部分，其他部分为0（黑色）\n",
    "res = cv2.bitwise_and(img, img, mask=dilated)\n",
    "cv2.imshow('frame', img)\n",
    "# cv2.imshow('mask', mask)\n",
    "cv2.imshow('res', res)\n",
    "cv2.waitKey(0)  \n",
    "cv2.destroyAllWindows()\n"
   ]
  },
  {
   "cell_type": "code",
   "execution_count": null,
   "metadata": {},
   "outputs": [],
   "source": [
    "# More: http://ex2tron.top\n",
    "\n",
    "import cv2\n",
    "import numpy as np\n",
    "\n",
    "# HSV中\n",
    "# Blue：[[[120 255 255]]]\n",
    "# Green：[[[ 60 255 255]]]\n",
    "# Red：[[[  0 255 255]]]\n",
    "\n",
    "capture = cv2.VideoCapture(1)\n",
    "\n",
    "# 蓝色的范围\n",
    "lower_blue = np.array([100, 110, 110])\n",
    "upper_blue = np.array([130, 255, 255])\n",
    "\n",
    "# 绿色的范围\n",
    "lower_green = np.array([40, 90, 90])\n",
    "upper_green = np.array([70, 255, 255])\n",
    "\n",
    "# 红色的范围\n",
    "lower_red = np.array([160, 120, 120])\n",
    "upper_red = np.array([179, 255, 255])\n",
    "\n",
    "while(True):\n",
    "    # 1.捕获视频中的一帧\n",
    "    ret, frame = capture.read()\n",
    "\n",
    "    # 2.从BGR转换到HSV\n",
    "    hsv = cv2.cvtColor(frame, cv2.COLOR_BGR2HSV)\n",
    "\n",
    "    mask_blue = cv2.inRange(hsv, lower_blue, upper_blue)\n",
    "    mask_green = cv2.inRange(hsv, lower_green, upper_green)\n",
    "    mask_red = cv2.inRange(hsv, lower_red, upper_red)\n",
    "\n",
    "    # 3.将所有的mask相加，就可以同时显示了\n",
    "    mask = mask_blue + mask_green + mask_red\n",
    "\n",
    "    # 4.保留原图中的三种颜色部分\n",
    "    res = cv2.bitwise_and(frame, frame, mask=mask)\n",
    "\n",
    "    cv2.imshow('frame', frame)\n",
    "    cv2.imshow('mask', mask)\n",
    "    cv2.imshow('res', res)\n",
    "\n",
    "    if cv2.waitKey(1) == ord('q'):\n",
    "        break"
   ]
  },
  {
   "cell_type": "code",
   "execution_count": 3,
   "metadata": {},
   "outputs": [
    {
     "name": "stdout",
     "output_type": "stream",
     "text": [
      "RGB\n",
      "255\n"
     ]
    }
   ],
   "source": [
    "im=Image.open(\"light.jpg\")\n",
    "print (im.mode )                      #查看图像的模式\n",
    "im1=im.convert(\"YCbCr\")     #转换图像的模式到视频模式\n",
    "y,cb,cr=im1.getpixel((10,10)) #提取点(10,10)位置的亮度、蓝色分量、红色分量的值。 \n",
    "print (y   )                                 #输出亮度值"
   ]
  },
  {
   "cell_type": "code",
   "execution_count": 7,
   "metadata": {},
   "outputs": [
    {
     "ename": "error",
     "evalue": "C:\\projects\\opencv-python\\opencv\\modules\\core\\src\\arithm.cpp:241: error: (-215) (mtype == 0 || mtype == 1) && _mask.sameSize(*psrc1) in function cv::binary_op\n",
     "output_type": "error",
     "traceback": [
      "\u001b[1;31m---------------------------------------------------------------------------\u001b[0m",
      "\u001b[1;31merror\u001b[0m                                     Traceback (most recent call last)",
      "\u001b[1;32m<ipython-input-7-a2d32bad0372>\u001b[0m in \u001b[0;36m<module>\u001b[1;34m()\u001b[0m\n\u001b[0;32m    123\u001b[0m \u001b[1;33m\u001b[0m\u001b[0m\n\u001b[0;32m    124\u001b[0m \u001b[1;31m# 4.保留原图中的三种颜色部分\u001b[0m\u001b[1;33m\u001b[0m\u001b[1;33m\u001b[0m\u001b[0m\n\u001b[1;32m--> 125\u001b[1;33m \u001b[0mres\u001b[0m \u001b[1;33m=\u001b[0m \u001b[0mcv2\u001b[0m\u001b[1;33m.\u001b[0m\u001b[0mbitwise_and\u001b[0m\u001b[1;33m(\u001b[0m\u001b[0mimage\u001b[0m\u001b[1;33m,\u001b[0m \u001b[0mimage\u001b[0m\u001b[1;33m,\u001b[0m \u001b[0mmask\u001b[0m\u001b[1;33m=\u001b[0m\u001b[0mmask\u001b[0m\u001b[1;33m)\u001b[0m\u001b[1;33m\u001b[0m\u001b[0m\n\u001b[0m\u001b[0;32m    126\u001b[0m \u001b[1;33m\u001b[0m\u001b[0m\n\u001b[0;32m    127\u001b[0m \u001b[0mcv2\u001b[0m\u001b[1;33m.\u001b[0m\u001b[0mwaitKey\u001b[0m\u001b[1;33m(\u001b[0m\u001b[1;36m0\u001b[0m\u001b[1;33m)\u001b[0m\u001b[1;33m\u001b[0m\u001b[0m\n",
      "\u001b[1;31merror\u001b[0m: C:\\projects\\opencv-python\\opencv\\modules\\core\\src\\arithm.cpp:241: error: (-215) (mtype == 0 || mtype == 1) && _mask.sameSize(*psrc1) in function cv::binary_op\n"
     ]
    }
   ],
   "source": [
    "import cv2\n",
    "import numpy as np\n",
    "import time \n",
    "image = cv2.imread(\"left0192.jpg\") # 根据路径读取一张图片\n",
    "# 剪切有效区域\n",
    "shapes=image.shape\n",
    "# print(shapes)\n",
    "# # image=image[0:int(1/3*shapes[1]),int(1/12*shapes[0]):int(11/12*shapes[1]),:]\n",
    "image=image[int(1/5*shapes[1]):int(4/5*shapes[1]),int(1/12*shapes[0]):int(11/12*shapes[1]),:]\n",
    "shapes=image.shape\n",
    "# 计算有效区域的面积\n",
    "propotion=image.shape[0]*image.shape[1]\n",
    "cv2.imshow('image3',image)\n",
    "# # image = cv2.pyrMeanShiftFiltering(image, 25, 10) \n",
    "hsv = cv2.cvtColor(image, cv2.COLOR_BGR2HSV) # BGR转HSV\n",
    "# cv2.imshow('hsv',hsv)\n",
    "end=image.copy()\n",
    "\n",
    "# 绿色的范围\n",
    "def getGreen(image):    \n",
    "#     lower_green = np.array([35, 20, 150])\n",
    "#     upper_green = np.array([70, 255, 255])\n",
    "#     lower_green = np.array([160, 80, 145])\n",
    "#     upper_green = np.array([255, 255, 255])\n",
    "    lower_green = np.array([0, 80, 145])\n",
    "    upper_green = np.array([8, 255, 255])\n",
    "    return {'green':getRange(image,lower_green,upper_green)}\n",
    "\n",
    "# 红色的范围\n",
    "def getRed(image):    \n",
    "#     low_red = np.array([0, 56, 90])\n",
    "#     high_red = np.array([9, 203, 255])\n",
    "    low_red = np.array([160, 80, 145])\n",
    "    high_red = np.array([255, 255, 255])\n",
    "    return {'red':getRange(image,low_red,high_red)}\n",
    "\n",
    "# 绿色的范围\n",
    "def getYellow(image):    \n",
    "#     low_yellow = np.array([16, 20, 200])\n",
    "#     high_yellow = np.array([36, 235, 255])\n",
    "    low_yellow = np.array([15, 100, 125])\n",
    "    high_yellow = np.array([30, 255, 255])\n",
    "    return {'yellow':getRange(image,low_yellow,high_yellow)}\n",
    "\n",
    "def getRange(image,low,high):\n",
    "# cv2.inRange函数设阈值，去除背景部分\n",
    "    mask = cv2.inRange(image, low, high)\n",
    "    return cv2.bitwise_and(image, image, mask=mask)  \n",
    "\n",
    "\n",
    "\n",
    "mask_red=list(getRed(image).values())[0]\n",
    "mask_green=list(getGreen(image).values())[0]\n",
    "mask_yellow=list(getYellow(image).values())[0]\n",
    "# 3.将所有的mask相加，就可以同时显示了\n",
    "mask = mask_yellow + mask_green + mask_red\n",
    "\n",
    "# 4.保留原图中的三种颜色部分\n",
    "res = cv2.bitwise_and(image, image, mask=mask)    \n",
    "\n",
    "cv2.waitKey(0)\n",
    "cv2.destroyAllWindows()"
   ]
  },
  {
   "cell_type": "code",
   "execution_count": null,
   "metadata": {},
   "outputs": [],
   "source": []
  }
 ],
 "metadata": {
  "kernelspec": {
   "display_name": "Python 3",
   "language": "python",
   "name": "python3"
  },
  "language_info": {
   "codemirror_mode": {
    "name": "ipython",
    "version": 3
   },
   "file_extension": ".py",
   "mimetype": "text/x-python",
   "name": "python",
   "nbconvert_exporter": "python",
   "pygments_lexer": "ipython3",
   "version": "3.6.4"
  }
 },
 "nbformat": 4,
 "nbformat_minor": 2
}
