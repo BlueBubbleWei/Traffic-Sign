{
 "cells": [
  {
   "cell_type": "code",
   "execution_count": 1,
   "metadata": {},
   "outputs": [],
   "source": [
    "import cv2\n",
    "import numpy as np\n",
    "import time \n",
    "import matplotlib.pyplot as plt"
   ]
  },
  {
   "cell_type": "code",
   "execution_count": 2,
   "metadata": {},
   "outputs": [
    {
     "name": "stdout",
     "output_type": "stream",
     "text": [
      "shapes (600, 800, 3)\n"
     ]
    }
   ],
   "source": [
    " # 根据路径读取一张图片\n",
    "start=time.clock()    \n",
    "image = cv2.imread(\"left0036.jpg\")\n",
    "shapes=image.shape\n",
    "print('shapes',shapes)\n",
    "# 剪切有效区域 ：判断图片的大小，是否需要裁剪\n",
    "images_size=[shapes[0],shapes[1]]\n",
    "images_size=np.min(images_size)\n",
    "if images_size > 1000:\n",
    "    image=image[0:int(1/3*shapes[1]),int(1/12*shapes[0]):int(11/12*shapes[1]),:]\n",
    "elif images_size > 800:\n",
    "    image=image[int(1/6*shapes[1]):int(5/6*shapes[1]),int(1/12*shapes[0]):int(11/12*shapes[1]),:]\n",
    "else:\n",
    "    image=image\n",
    "cv2.imshow('image',image)\n",
    "# 计算有效区域的面积\n",
    "shapes=image.shape\n",
    "propotion=image.shape[0]*image.shape[1]\n",
    " # BGR转HSV\n",
    "hsv = cv2.cvtColor(image, cv2.COLOR_BGR2HSV)\n",
    "#保留底片\n",
    "end=image.copy()"
   ]
  },
  {
   "cell_type": "code",
   "execution_count": 3,
   "metadata": {},
   "outputs": [],
   "source": [
    "# 绿色的范围\n",
    "def getGreen(image):    \n",
    "    lower_green = np.array([45, 70, 100])\n",
    "    upper_green = np.array([85, 255, 255])\n",
    "    return {'green':getRange(image,lower_green,upper_green)}\n",
    "\n",
    "# 红色的范围\n",
    "def getRed(image):    \n",
    "    low_red = np.array([0, 100, 80])\n",
    "    high_red = np.array([8, 255, 255])\n",
    "    return {'red':getRange(image,low_red,high_red)}\n",
    "\n",
    "# 绿色的范围\n",
    "def getYellow(image):    \n",
    "    low_yellow = np.array([10, 100, 220])\n",
    "    high_yellow = np.array([45, 255, 255])\n",
    "    return {'yellow':getRange(image,low_yellow,high_yellow)}\n",
    "\n",
    "def getRange(image,low,high):\n",
    "# cv2.inRange函数设阈值，去除背景部分\n",
    "    mask = cv2.inRange(image, low, high)\n",
    "    return mask\n",
    "\n",
    "def deNoise(img):   \n",
    "    erode=cv2.erode(img,(100,100),iterations=4)\n",
    "#降噪（模糊处理用来减少瑕疵点）\n",
    "    blur = cv2.blur(erode, (5,5))   \n",
    "# 膨胀\n",
    "    dilate=cv2.dilate(blur,(100,100),iterations=4)\n",
    "# 边缘检测    \n",
    "    canny = cv2.Canny(blur, 150, 240)     \n",
    "    kernel = cv2.getStructuringElement(cv2.MORPH_ELLIPSE, (10, 10))\n",
    "# 闭操作    \n",
    "    closed = cv2.morphologyEx(canny, cv2.MORPH_CLOSE, kernel)\n",
    "#     cv2.imshow('closed',closed)\n",
    "    return closed\n",
    "\n",
    "def getPositions(img):\n",
    "    ret,thresh = cv2.threshold(img,127,255,0)\n",
    "    tmp,contours,hierarchy=cv2.findContours(thresh,1,2)\n",
    "#有效交通灯的比例    \n",
    "    hsvList=[]\n",
    "    if contours :\n",
    "# 在单个颜色ROIs中hsv里面最亮的区域\n",
    "        for i in range(len(contours)):\n",
    "            rect=cv2.minAreaRect(contours[i])\n",
    "            cnt=contours[i] \n",
    "            x,y,w,h=cv2.boundingRect(cnt)\n",
    "            cv2.rectangle(end,(x,y),(x+w,y+h),(0,255,0),2)\n",
    "            HSV=end[y:y+h,x:x+w,:]\n",
    "            HSV = cv2.cvtColor(HSV, cv2.COLOR_BGR2HSV)        \n",
    "            H, S, V = cv2.split(HSV)\n",
    "            v = np.mean(V)\n",
    "            hsvList.append((i,v,(y,y+h,x,x+w)))\n",
    "        hsvList=sorted(hsvList,key=lambda x : (x[1]),reverse=True)     \n",
    "        if len(hsvList)>0:            \n",
    "            order=hsvList[0][0]\n",
    "            coordinate=hsvList[0][2]\n",
    "            return list(coordinate)\n",
    "        else:\n",
    "            return 0\n",
    "    else:\n",
    "        return 0\n",
    "    \n"
   ]
  },
  {
   "cell_type": "code",
   "execution_count": 4,
   "metadata": {
    "scrolled": true
   },
   "outputs": [
    {
     "name": "stdout",
     "output_type": "stream",
     "text": [
      "coordinate [67, 82, 434, 448]\n",
      "v 250.033333333\n",
      "[('red', 250.03333333333333), ('green', 0), ('yellow', 0)]\n",
      "{'red': 250.03333333333333}\n",
      "total: 0.2808523770006156\n",
      "The current color is: red\n"
     ]
    }
   ],
   "source": [
    "colors=[]\n",
    "colors.append(getGreen(hsv))\n",
    "colors.append(getRed(hsv))\n",
    "colors.append(getYellow(hsv))\n",
    "# 节省时间复杂度\n",
    "\n",
    "areas=[]\n",
    "sumResult=0\n",
    "_max={'color':0}\n",
    "# 三个区域最亮的地方\n",
    "for i in range(len(colors)):\n",
    "    closed = deNoise(list(colors[i].values())[0])\n",
    "    coordinate = getPositions(closed)\n",
    "    if isinstance(coordinate,list):\n",
    "        print('coordinate',coordinate)\n",
    "        HSV=end[coordinate[0]:coordinate[1],coordinate[2]:coordinate[3],:]\n",
    "        HSV = cv2.cvtColor(HSV, cv2.COLOR_BGR2HSV)        \n",
    "        H, S, V = cv2.split(HSV)\n",
    "        v = np.mean(V)\n",
    "        print('v',v)\n",
    "        if v >list( _max.values())[0]:\n",
    "            _max['color']=v\n",
    "            _max[list(colors[i].keys())[0]] = _max.pop('color')\n",
    "        sumResult+=v\n",
    "        areas.append((list(colors[i].keys())[0],v))\n",
    "    else:\n",
    "        areas.append((list(colors[i].keys())[0],0))\n",
    "        \n",
    "# 按颜色值的大小排序\n",
    "areas=sorted(areas,key=lambda x : (x[1]),reverse=True)\n",
    "print(areas)\n",
    "print(_max)\n",
    "ended=time.clock()\n",
    "print('total:',ended-start)\n",
    "if int(areas[0][1]) != 0:\n",
    "    print('The current color is:',areas[0][0])\n",
    "else:\n",
    "    print('没有交通灯')\n",
    "cv2.waitKey(0)\n",
    "cv2.destroyAllWindows()"
   ]
  },
  {
   "cell_type": "code",
   "execution_count": null,
   "metadata": {},
   "outputs": [],
   "source": []
  }
 ],
 "metadata": {
  "kernelspec": {
   "display_name": "Python 3",
   "language": "python",
   "name": "python3"
  },
  "language_info": {
   "codemirror_mode": {
    "name": "ipython",
    "version": 3
   },
   "file_extension": ".py",
   "mimetype": "text/x-python",
   "name": "python",
   "nbconvert_exporter": "python",
   "pygments_lexer": "ipython3",
   "version": "3.6.4"
  }
 },
 "nbformat": 4,
 "nbformat_minor": 2
}
