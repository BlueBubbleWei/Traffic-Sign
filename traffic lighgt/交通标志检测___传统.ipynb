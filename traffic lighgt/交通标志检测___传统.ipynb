{
 "cells": [
  {
   "cell_type": "code",
   "execution_count": 1,
   "metadata": {},
   "outputs": [
    {
     "ename": "AttributeError",
     "evalue": "'NoneType' object has no attribute 'shape'",
     "output_type": "error",
     "traceback": [
      "\u001b[1;31m---------------------------------------------------------------------------\u001b[0m",
      "\u001b[1;31mAttributeError\u001b[0m                            Traceback (most recent call last)",
      "\u001b[1;32m<ipython-input-1-8a093fdf8561>\u001b[0m in \u001b[0;36m<module>\u001b[1;34m()\u001b[0m\n\u001b[0;32m      4\u001b[0m \u001b[1;31m#加载原图\u001b[0m\u001b[1;33m\u001b[0m\u001b[1;33m\u001b[0m\u001b[0m\n\u001b[0;32m      5\u001b[0m \u001b[0mimg\u001b[0m\u001b[1;33m=\u001b[0m\u001b[0mcv2\u001b[0m\u001b[1;33m.\u001b[0m\u001b[0mimread\u001b[0m\u001b[1;33m(\u001b[0m\u001b[1;34m'sign.jpg'\u001b[0m\u001b[1;33m)\u001b[0m\u001b[1;33m\u001b[0m\u001b[0m\n\u001b[1;32m----> 6\u001b[1;33m \u001b[0mprint\u001b[0m\u001b[1;33m(\u001b[0m\u001b[1;34m'img:'\u001b[0m\u001b[1;33m,\u001b[0m\u001b[0mtype\u001b[0m\u001b[1;33m(\u001b[0m\u001b[0mimg\u001b[0m\u001b[1;33m)\u001b[0m\u001b[1;33m,\u001b[0m\u001b[0mimg\u001b[0m\u001b[1;33m.\u001b[0m\u001b[0mshape\u001b[0m\u001b[1;33m,\u001b[0m\u001b[0mimg\u001b[0m\u001b[1;33m.\u001b[0m\u001b[0mdtype\u001b[0m\u001b[1;33m)\u001b[0m\u001b[1;33m\u001b[0m\u001b[0m\n\u001b[0m\u001b[0;32m      7\u001b[0m \u001b[0mcv2\u001b[0m\u001b[1;33m.\u001b[0m\u001b[0mimshow\u001b[0m\u001b[1;33m(\u001b[0m\u001b[1;34m'img'\u001b[0m\u001b[1;33m,\u001b[0m\u001b[0mimg\u001b[0m\u001b[1;33m)\u001b[0m\u001b[1;33m\u001b[0m\u001b[0m\n\u001b[0;32m      8\u001b[0m \u001b[1;33m\u001b[0m\u001b[0m\n",
      "\u001b[1;31mAttributeError\u001b[0m: 'NoneType' object has no attribute 'shape'"
     ]
    }
   ],
   "source": [
    "import cv2\n",
    "import numpy as np\n",
    "\n",
    "#加载原图\n",
    "img=cv2.imread('sign.jpg')\n",
    "print('img:',type(img),img.shape,img.dtype)\n",
    "cv2.imshow('img',img)\n",
    "\n",
    "hsv=cv2.cvtColor(img,cv2.COLOR_BGR2HSV)\n",
    "cv2.imshow('hsv',hsv)\n",
    "\n",
    "#提取蓝色区域\n",
    "blue_lower=np.array([100,50,50])\n",
    "blue_upper=np.array([124,255,255])\n",
    "mask=cv2.inRange(hsv,blue_lower,blue_upper)\n",
    "print('mask',type(mask),mask.shape)\n",
    "cv2.imshow('mask',mask)\n",
    "\n",
    "#模糊\n",
    "blurred=cv2.blur(mask,(9,9))\n",
    "cv2.imshow('blurred',blurred)\n",
    "#二值化\n",
    "ret,binary=cv2.threshold(blurred,127,255,cv2.THRESH_BINARY)\n",
    "cv2.imshow('blurred binary',binary)\n",
    "\n",
    "#使区域闭合无空隙\n",
    "kernel = cv2.getStructuringElement(cv2.MORPH_RECT, (21, 7))\n",
    "closed = cv2.morphologyEx(binary, cv2.MORPH_CLOSE, kernel)\n",
    "cv2.imshow('closed',closed)\n",
    "\n",
    "#腐蚀和膨胀\n",
    "'''\n",
    "腐蚀操作将会腐蚀图像中白色像素，以此来消除小斑点，\n",
    "而膨胀操作将使剩余的白色像素扩张并重新增长回去。\n",
    "'''\n",
    "erode=cv2.erode(closed,None,iterations=4)\n",
    "cv2.imshow('erode',erode)\n",
    "dilate=cv2.dilate(erode,None,iterations=4)\n",
    "cv2.imshow('dilate',dilate)\n",
    "\n",
    "# 查找轮廓\n",
    "image,contours, hierarchy=cv2.findContours(dilate.copy(), cv2.RETR_EXTERNAL,cv2.CHAIN_APPROX_SIMPLE)\n",
    "print('轮廓个数：',len(contours))\n",
    "i=0\n",
    "res=img.copy()\n",
    "for con in contours:\n",
    "    #轮廓转换为矩形\n",
    "    rect=cv2.minAreaRect(con)\n",
    "    #矩形转换为box\n",
    "    box=np.int0(cv2.boxPoints(rect))\n",
    "    #在原图画出目标区域\n",
    "    cv2.drawContours(res,[box],-1,(0,0,255),2)\n",
    "#     print([box])\n",
    "    #计算矩形的行列\n",
    "    h1=max([box][0][0][1],[box][0][1][1],[box][0][2][1],[box][0][3][1])\n",
    "    h2=min([box][0][0][1],[box][0][1][1],[box][0][2][1],[box][0][3][1])\n",
    "    l1=max([box][0][0][0],[box][0][1][0],[box][0][2][0],[box][0][3][0])\n",
    "    l2=min([box][0][0][0],[box][0][1][0],[box][0][2][0],[box][0][3][0])\n",
    "    print('h1',h1)\n",
    "    print('h2',h2)\n",
    "    print('l1',l1)\n",
    "    print('l2',l2)\n",
    "    #加上防错处理，确保裁剪区域无异常\n",
    "    if h1-h2>0 and l1-l2>0:\n",
    "        #裁剪矩形区域\n",
    "        temp=img[h2:h1,l2:l1]\n",
    "        i=i+1\n",
    "        #显示裁剪后的标志\n",
    "        cv2.imshow('sign'+str(i),temp)\n",
    "#显示画了标志的原图       \n",
    "cv2.imshow('res',res)\n",
    "\n",
    "cv2.waitKey(0)\n",
    "cv2.destroyAllWindows()"
   ]
  },
  {
   "cell_type": "code",
   "execution_count": null,
   "metadata": {},
   "outputs": [],
   "source": []
  }
 ],
 "metadata": {
  "kernelspec": {
   "display_name": "Python 3",
   "language": "python",
   "name": "python3"
  },
  "language_info": {
   "codemirror_mode": {
    "name": "ipython",
    "version": 3
   },
   "file_extension": ".py",
   "mimetype": "text/x-python",
   "name": "python",
   "nbconvert_exporter": "python",
   "pygments_lexer": "ipython3",
   "version": "3.6.4"
  }
 },
 "nbformat": 4,
 "nbformat_minor": 2
}
