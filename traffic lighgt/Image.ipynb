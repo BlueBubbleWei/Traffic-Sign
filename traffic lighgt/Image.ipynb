{
 "cells": [
  {
   "cell_type": "code",
   "execution_count": 3,
   "metadata": {},
   "outputs": [],
   "source": [
    "import cv2\n",
    "import numpy as np"
   ]
  },
  {
   "cell_type": "code",
   "execution_count": 81,
   "metadata": {},
   "outputs": [],
   "source": [
    "\n",
    "class Image(object):\n",
    "    path=None\n",
    "    end=None\n",
    "    \n",
    "    def __init__(self,path):        \n",
    "        self.path = cv2.imread(path)\n",
    "        self.size = self.resizeImage()\n",
    "        end = self.path.copy()\n",
    "#         self.hsv = self.getHsv()       \n",
    "    \n",
    "    @classmethod\n",
    "    def resizeImage(self):\n",
    "        shapes = self.path.shape\n",
    "        print('shapes',shapes)\n",
    "        # 剪切有效区域 ：判断图片的大小，是否需要裁剪\n",
    "        images_size = [shapes[0],shapes[1]]\n",
    "        images_size = np.min(images_size)\n",
    "        if images_size > 1000:\n",
    "            self.path=self.path[0:int(1/3*shapes[1]),int(1/12*shapes[0]):int(11/12*shapes[1]),:]\n",
    "        elif images_size > 800:\n",
    "            self.path=self.path[int(1/6*shapes[1]):int(5/6*shapes[1]),int(1/12*shapes[0]):int(11/12*shapes[1]),:]\n",
    "        return self.path\n",
    "            \n",
    "    @classmethod\n",
    "    def getRed(self):\n",
    "        # 红色的范围\n",
    "        low_red = np.array([0, 56, 90])\n",
    "        high_red = np.array([9, 203, 255])\n",
    "        return getRange(self.hsv,low_red,high_red)\n",
    "    \n",
    "    @classmethod\n",
    "    def getGreen(self):\n",
    "        # 绿色的范围\n",
    "        lower_green = np.array([35, 20, 147])\n",
    "        upper_green = np.array([70, 255, 255])\n",
    "        return getRange(self,lower_green,upper_green)\n",
    "    \n",
    "    def getYellow(self):\n",
    "        # 绿色的范围\n",
    "        low_yellow = np.array([16, 20, 200])\n",
    "        high_yellow = np.array([36, 235, 255])\n",
    "        return getRange(self,low_yellow,high_yellow)\n",
    "        \n",
    "    def getRange(self,image,low,high):\n",
    "# cv2.inRange函数设阈值，去除背景部分\n",
    "        mask = cv2.inRange(self, low, high)\n",
    "        return cv2.bitwise_and(self, self, mask=mask)\n",
    "   \n",
    "# 4.只保留原图中的特定阈值mask ≠0时img与img按位相与，即显示原图的特定颜色部分，其他部分为0（黑色）\n",
    "        \n",
    "\n",
    "    def getGaussianBlur(self): \n",
    "        gauss = cv2.GaussianBlur(self, (7,7), 0)        \n",
    "        return gauss\n",
    "        \n",
    "#降噪（模糊处理用来减少瑕疵点）    \n",
    "    def getBlured(self): \n",
    "        return cv2.blur(image, (5,5)) \n",
    "    \n",
    "# 转HSV颜色空间    \n",
    "    def getHsv(self):\n",
    "        return cv2.cvtColor(self.path, cv2.COLOR_BGR2HSV)\n",
    "    \n",
    " #灰度化 \n",
    "    def getGray(self):   \n",
    "        return cv2.cvtColor(image,cv2.COLOR_BGR2GRAY)\n",
    "\n",
    "    def getCanny(self):\n",
    "# 其中较大的阈值2用于检测图像中明显的边缘，用较小的第一个阈值用于将这些间断的边缘连接起来\n",
    "        return cv2.Canny(self, 150, 240) \n",
    "    \n",
    "    def getClosed(self):\n",
    "#闭操作，使区域闭合无空隙 \n",
    "        kernel = cv2.getStructuringElement(cv2.MORPH_ELLIPSE, (100, 100))\n",
    "        return cv2.morphologyEx(self, cv2.MORPH_CLOSE, kernel)\n",
    "    \n",
    "    def showImage(self,name):\n",
    "        cv2.imshow(name,self.hsv)\n",
    "        cv2.waitKey(0)\n",
    "        cv2.destroyAllWindows()\n",
    "        "
   ]
  },
  {
   "cell_type": "code",
   "execution_count": 79,
   "metadata": {},
   "outputs": [
    {
     "name": "stdout",
     "output_type": "stream",
     "text": [
      "shapes (600, 800, 3)\n",
      "shapes (600, 800, 3)\n"
     ]
    }
   ],
   "source": [
    "image=Image(\"left0560.jpg\")\n",
    "resize=image.resizeImage()\n"
   ]
  },
  {
   "cell_type": "code",
   "execution_count": 80,
   "metadata": {},
   "outputs": [],
   "source": [
    "hsv=image.showImage('name')"
   ]
  },
  {
   "cell_type": "code",
   "execution_count": null,
   "metadata": {},
   "outputs": [],
   "source": []
  }
 ],
 "metadata": {
  "kernelspec": {
   "display_name": "Python 3",
   "language": "python",
   "name": "python3"
  },
  "language_info": {
   "codemirror_mode": {
    "name": "ipython",
    "version": 3
   },
   "file_extension": ".py",
   "mimetype": "text/x-python",
   "name": "python",
   "nbconvert_exporter": "python",
   "pygments_lexer": "ipython3",
   "version": "3.6.4"
  }
 },
 "nbformat": 4,
 "nbformat_minor": 2
}
