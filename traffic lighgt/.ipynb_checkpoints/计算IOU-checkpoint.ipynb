{
 "cells": [
  {
   "cell_type": "code",
   "execution_count": 1,
   "metadata": {},
   "outputs": [],
   "source": [
    "from collections import namedtuple\n",
    "import numpy as np\n",
    "import cv2\n",
    " \n",
    "# define the `b` object\n",
    "Detection = namedtuple(\"Detection\", [\"image_path\", \"gt\", \"pred\"])"
   ]
  },
  {
   "cell_type": "code",
   "execution_count": 4,
   "metadata": {},
   "outputs": [],
   "source": [
    "def bb_intersection_over_union(boxA, boxB):\n",
    "    # determine the (x, y)-coordinates of the intersection rectangle\n",
    "    xA = max(boxA[0], boxB[0])\n",
    "    yA = max(boxA[1], boxB[1])\n",
    "    xB = min(boxA[2], boxB[2])\n",
    "    yB = min(boxA[3], boxB[3])\n",
    "    #判断是否是相交区域\n",
    "    if (boxB[0] > boxA[2] or boxA[0] >boxB[2]) and (boxB[3] < boxA[1] or boxB[1] > boxA[1]):\n",
    "        return 0\n",
    "    else:\n",
    "    \n",
    "\n",
    "        # compute the area of intersection rectangle\n",
    "        interArea = (xB - xA + 1) * (yB - yA + 1)\n",
    "\n",
    "        # compute the area of both the prediction and ground-truth\n",
    "        # rectangles\n",
    "        boxAArea = (boxA[2] - boxA[0] + 1) * (boxA[3] - boxA[1] + 1)\n",
    "        boxBArea = (boxB[2] - boxB[0] + 1) * (boxB[3] - boxB[1] + 1)\n",
    "\n",
    "        iou = interArea / float(boxAArea + boxBArea - interArea)\n",
    "\n",
    "        # return the intersection over union value\n",
    "        return iou"
   ]
  },
  {
   "cell_type": "code",
   "execution_count": 5,
   "metadata": {},
   "outputs": [
    {
     "name": "stdout",
     "output_type": "stream",
     "text": [
      "Detection(image_path='left0011.jpg', gt=[39, 63, 203, 112], pred=[54, 66, 198, 114])\n",
      "left0011.jpg: 0.7980\n"
     ]
    }
   ],
   "source": [
    "# define the list of example detections\n",
    "examples = [\n",
    "\tDetection(\"left0011.jpg\", [39, 63, 203, 112], [54, 66, 198, 114])\n",
    "]\n",
    "\n",
    "print(Detection(\"left0011.jpg\", [39, 63, 203, 112], [54, 66, 198, 114]))\n",
    "\n",
    "# loop over the example detections\n",
    "for detection in examples:\n",
    "\t# load the image\n",
    "\timage = cv2.imread(detection.image_path)\n",
    " \n",
    "\t# draw the ground-truth bounding box along with the predicted\n",
    "\t# bounding box\n",
    "\tcv2.rectangle(image, tuple(detection.gt[:2]), \n",
    "\t\ttuple(detection.gt[2:]), (0, 255, 0), 2)\n",
    "\tcv2.rectangle(image, tuple(detection.pred[:2]), \n",
    "\t\ttuple(detection.pred[2:]), (0, 0, 255), 2)\n",
    " \n",
    "\t# compute the intersection over union and display it\n",
    "\tiou = bb_intersection_over_union(detection.gt, detection.pred)\n",
    "\tcv2.putText(image, \"IoU: {:.4f}\".format(iou), (10, 30),\n",
    "\t\tcv2.FONT_HERSHEY_SIMPLEX, 0.6, (0, 255, 0), 2)\n",
    "\tprint(\"{}: {:.4f}\".format(detection.image_path, iou))\n",
    " \n",
    "\t# show the output image\n",
    "\tcv2.imshow(\"Image\", image)\n",
    "\tcv2.waitKey(0)\n",
    "\tcv2.destroyAllWindows()"
   ]
  },
  {
   "cell_type": "code",
   "execution_count": null,
   "metadata": {},
   "outputs": [],
   "source": []
  },
  {
   "cell_type": "code",
   "execution_count": null,
   "metadata": {},
   "outputs": [],
   "source": []
  }
 ],
 "metadata": {
  "kernelspec": {
   "display_name": "Python 3",
   "language": "python",
   "name": "python3"
  },
  "language_info": {
   "codemirror_mode": {
    "name": "ipython",
    "version": 3
   },
   "file_extension": ".py",
   "mimetype": "text/x-python",
   "name": "python",
   "nbconvert_exporter": "python",
   "pygments_lexer": "ipython3",
   "version": "3.6.4"
  }
 },
 "nbformat": 4,
 "nbformat_minor": 2
}
