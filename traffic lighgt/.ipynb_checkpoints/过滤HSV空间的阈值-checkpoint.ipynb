{
 "cells": [
  {
   "cell_type": "code",
   "execution_count": null,
   "metadata": {},
   "outputs": [],
   "source": [
    "import cv2\n",
    "import numpy as np\n",
    "image = cv2.imread('light7.jpg') # 根据路径读取一张图片\n",
    "cv2.imshow(\"BGR\", image) # 显示图片\n",
    "\n",
    "hsv_low = np.array([120, 100, 80])\n",
    "hsv_high = np.array([55, 255, 255])\n",
    "\n",
    "# 下面几个函数，写得有点冗余\n",
    "\n",
    "def h_low(value):\n",
    "    hsv_low[0] = value\n",
    "\n",
    "def h_high(value):\n",
    "    hsv_high[0] = value\n",
    "\n",
    "def s_low(value):\n",
    "    hsv_low[1] = value\n",
    "\n",
    "def s_high(value):\n",
    "    hsv_high[1] = value\n",
    "\n",
    "def v_low(value):\n",
    "    hsv_low[2] = value\n",
    "\n",
    "def v_high(value):\n",
    "    hsv_high[2] = value\n",
    "\n",
    "cv2.namedWindow('image')\n",
    "cv2.createTrackbar('H low', 'image', 0, 255, h_low) \n",
    "cv2.createTrackbar('H high', 'image', 0, 255, h_high)\n",
    "cv2.createTrackbar('S low', 'image', 0, 255, s_low)\n",
    "cv2.createTrackbar('S high', 'image', 0, 255, s_high)\n",
    "cv2.createTrackbar('V low', 'image', 0, 255, v_low)\n",
    "cv2.createTrackbar('V high', 'image', 0, 255, v_high)\n",
    "\n",
    "while True:\n",
    "    dst = cv2.cvtColor(image, cv2.COLOR_BGR2HSV) # BGR转HSV\n",
    "    dst = cv2.inRange(dst, hsv_low, hsv_high) # 通过HSV的高低阈值，提取图像部分区域\n",
    "    cv2.imshow('dst', dst)\n",
    "    if cv2.waitKey(1) & 0xFF == ord('q'):\n",
    "        break\n",
    "cv2.destroyAllWindows()"
   ]
  },
  {
   "cell_type": "code",
   "execution_count": null,
   "metadata": {},
   "outputs": [],
   "source": []
  }
 ],
 "metadata": {
  "kernelspec": {
   "display_name": "Python 3",
   "language": "python",
   "name": "python3"
  },
  "language_info": {
   "codemirror_mode": {
    "name": "ipython",
    "version": 3
   },
   "file_extension": ".py",
   "mimetype": "text/x-python",
   "name": "python",
   "nbconvert_exporter": "python",
   "pygments_lexer": "ipython3",
   "version": "3.6.4"
  }
 },
 "nbformat": 4,
 "nbformat_minor": 2
}
